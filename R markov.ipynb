{
 "cells": [
  {
   "cell_type": "markdown",
   "id": "f7e6aa7f-b3b7-4f1d-8adc-a39049d5b114",
   "metadata": {},
   "source": [
    "# Markov chain in R"
   ]
  },
  {
   "cell_type": "markdown",
   "id": "f66cec54-baf4-4adc-93c0-53e91efd24ab",
   "metadata": {},
   "source": [
    "**Start by creating the relevant transition matrix**"
   ]
  },
  {
   "cell_type": "code",
   "execution_count": 6,
   "id": "b1ec093b-b69c-4bbb-b463-ef3b7178884d",
   "metadata": {},
   "outputs": [
    {
     "name": "stdout",
     "output_type": "stream",
     "text": [
      "      Sunny Rain\n",
      "Sunny   0.5  0.5\n",
      "Rain    0.4  0.6\n"
     ]
    }
   ],
   "source": [
    "# Transition matrix\n",
    "transition_matrix <- matrix(c(0.5, 0.5, \n",
    "                              0.4, 0.6), \n",
    "                            byrow = TRUE, \n",
    "                            nrow = 2)\n",
    "\n",
    "rownames(transition_matrix) <- colnames(transition_matrix) <- c(\"Sunny\", \"Rain\")\n",
    "\n",
    "print(transition_matrix)\n"
   ]
  },
  {
   "cell_type": "markdown",
   "id": "e07ca301-3a7e-4faf-bdef-ba54925338e1",
   "metadata": {},
   "source": [
    "**Now, create the main Markov chain function.**"
   ]
  },
  {
   "cell_type": "code",
   "execution_count": 9,
   "id": "3331caa1-2e5e-4df4-ae8b-4a216f697b6e",
   "metadata": {},
   "outputs": [],
   "source": [
    "markov_chain <- function(transition_matrix, initial_state, num_steps){\n",
    "  # Initialize an array to hold the states\n",
    "  states <- character(num_steps)\n",
    "  \n",
    "  # Set the first state\n",
    "  states[1] <- initial_state\n",
    "  \n",
    "  # Simulation\n",
    "  for(i in 2:num_steps){\n",
    "    prob <- transition_matrix[states[i-1],]\n",
    "    states[i] <- sample(colnames(transition_matrix), 1, prob = prob)\n",
    "  }\n",
    "  \n",
    "  return(states)\n",
    "}\n"
   ]
  },
  {
   "cell_type": "markdown",
   "id": "a15c3cc9-e73e-4a1a-8d0a-9bdaf18a4c88",
   "metadata": {},
   "source": [
    "Here is how to interpret this:\n",
    "- We already have a transition matrix that shows the probability of moving to a state from another. As written above, we have sunny to sunny is 50%, Sunny to Rain is 50%, etc.\n",
    "- Number of steps is exogenous\n",
    "- Initial state is the first one\n",
    "- Then, the simulation. It is a for loop that creates the probability based on the transition matrix, and then does a sample from the two based on the probability."
   ]
  },
  {
   "cell_type": "markdown",
   "id": "138925d8-67a8-4bcb-a655-b2563f513dd2",
   "metadata": {},
   "source": [
    "**Now, set the parameters and run it**"
   ]
  },
  {
   "cell_type": "code",
   "execution_count": 11,
   "id": "3af8d252-1c56-4c2b-a484-707a21d2747b",
   "metadata": {},
   "outputs": [
    {
     "name": "stdout",
     "output_type": "stream",
     "text": [
      "  [1] \"Sunny\" \"Sunny\" \"Rain\"  \"Sunny\" \"Sunny\" \"Sunny\" \"Sunny\" \"Sunny\" \"Rain\" \n",
      " [10] \"Rain\"  \"Rain\"  \"Rain\"  \"Rain\"  \"Rain\"  \"Sunny\" \"Sunny\" \"Sunny\" \"Rain\" \n",
      " [19] \"Rain\"  \"Rain\"  \"Rain\"  \"Rain\"  \"Rain\"  \"Sunny\" \"Sunny\" \"Sunny\" \"Rain\" \n",
      " [28] \"Rain\"  \"Sunny\" \"Rain\"  \"Rain\"  \"Rain\"  \"Rain\"  \"Rain\"  \"Rain\"  \"Rain\" \n",
      " [37] \"Rain\"  \"Sunny\" \"Sunny\" \"Sunny\" \"Sunny\" \"Sunny\" \"Rain\"  \"Sunny\" \"Sunny\"\n",
      " [46] \"Rain\"  \"Sunny\" \"Rain\"  \"Rain\"  \"Rain\"  \"Rain\"  \"Sunny\" \"Sunny\" \"Sunny\"\n",
      " [55] \"Sunny\" \"Rain\"  \"Sunny\" \"Rain\"  \"Rain\"  \"Sunny\" \"Rain\"  \"Sunny\" \"Rain\" \n",
      " [64] \"Sunny\" \"Sunny\" \"Rain\"  \"Sunny\" \"Sunny\" \"Sunny\" \"Rain\"  \"Sunny\" \"Rain\" \n",
      " [73] \"Sunny\" \"Rain\"  \"Rain\"  \"Rain\"  \"Rain\"  \"Rain\"  \"Rain\"  \"Sunny\" \"Sunny\"\n",
      " [82] \"Sunny\" \"Sunny\" \"Rain\"  \"Rain\"  \"Rain\"  \"Rain\"  \"Rain\"  \"Rain\"  \"Rain\" \n",
      " [91] \"Sunny\" \"Rain\"  \"Sunny\" \"Rain\"  \"Rain\"  \"Rain\"  \"Rain\"  \"Sunny\" \"Rain\" \n",
      "[100] \"Rain\" \n"
     ]
    }
   ],
   "source": [
    "# Seed for reproducability\n",
    "set.seed(99)\n",
    "\n",
    "# Set initial state\n",
    "initial_state <- \"Sunny\"\n",
    "\n",
    "# Set number of steps\n",
    "num_steps <- 100\n",
    "\n",
    "# Simulate Markov chain\n",
    "simulation <- markov_chain(transition_matrix, initial_state, num_steps)\n",
    "\n",
    "# Print the simulation result\n",
    "print(simulation)\n"
   ]
  },
  {
   "cell_type": "markdown",
   "id": "6b448053-681f-4f27-9850-76aee462896f",
   "metadata": {},
   "source": [
    "**Plot how the result evolves with the parameters**"
   ]
  }
 ],
 "metadata": {
  "kernelspec": {
   "display_name": "R",
   "language": "R",
   "name": "ir"
  },
  "language_info": {
   "codemirror_mode": "r",
   "file_extension": ".r",
   "mimetype": "text/x-r-source",
   "name": "R",
   "pygments_lexer": "r",
   "version": "4.3.0"
  }
 },
 "nbformat": 4,
 "nbformat_minor": 5
}
