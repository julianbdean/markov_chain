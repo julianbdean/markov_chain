{
 "cells": [
  {
   "cell_type": "code",
   "execution_count": 7,
   "id": "4f422927-24eb-4a80-bff3-22f7703ed021",
   "metadata": {},
   "outputs": [],
   "source": [
    "import numpy as np"
   ]
  },
  {
   "cell_type": "code",
   "execution_count": 11,
   "id": "8cbbc4c9-31c7-4efa-8961-1a4d5479a2a0",
   "metadata": {},
   "outputs": [],
   "source": [
    "# Define the transition matrix\n",
    "transition_matrix = np.array([[0.5, 0.5],\n",
    "                              [0.4, 0.6]])\n",
    "\n",
    "# Mapping of states to index\n",
    "state_mapping = {'Sunny': 0, 'Rain': 1}"
   ]
  },
  {
   "cell_type": "code",
   "execution_count": 12,
   "id": "1f2d3923-8672-46dd-a7ed-7e0e20f4ce27",
   "metadata": {},
   "outputs": [],
   "source": [
    "def markov_chain(transition_matrix, initial_state, num_steps):\n",
    "    # Initialize a list to hold the states\n",
    "    states = []\n",
    "    \n",
    "    # Set the first state\n",
    "    states.append(initial_state)\n",
    "    \n",
    "    # Simulation\n",
    "    for i in range(num_steps - 1):\n",
    "        prob = transition_matrix[state_mapping[states[-1]]]\n",
    "        next_state = np.random.choice(list(state_mapping.keys()), p = prob)\n",
    "        states.append(next_state)\n",
    "    \n",
    "    return states"
   ]
  },
  {
   "cell_type": "code",
   "execution_count": 14,
   "id": "05f1fcef-7544-4d9e-9819-9d84556beac8",
   "metadata": {},
   "outputs": [
    {
     "name": "stdout",
     "output_type": "stream",
     "text": [
      "['Sunny', 'Rain', 'Rain', 'Rain', 'Sunny', 'Rain', 'Rain', 'Sunny', 'Sunny', 'Rain', 'Sunny', 'Rain', 'Rain', 'Sunny', 'Sunny', 'Rain', 'Sunny', 'Rain', 'Rain', 'Sunny', 'Rain', 'Sunny', 'Rain', 'Sunny', 'Rain', 'Rain', 'Sunny', 'Rain', 'Sunny', 'Sunny', 'Sunny', 'Sunny', 'Sunny', 'Sunny', 'Sunny', 'Sunny', 'Sunny', 'Rain', 'Rain', 'Sunny', 'Rain', 'Rain', 'Sunny', 'Rain', 'Rain', 'Rain', 'Rain', 'Sunny', 'Rain', 'Rain', 'Sunny', 'Rain', 'Sunny', 'Sunny', 'Rain', 'Rain', 'Rain', 'Rain', 'Rain', 'Rain', 'Sunny', 'Sunny', 'Rain', 'Rain', 'Rain', 'Rain', 'Sunny', 'Sunny', 'Sunny', 'Sunny', 'Rain', 'Rain', 'Sunny', 'Sunny', 'Sunny', 'Rain', 'Rain', 'Rain', 'Rain', 'Sunny', 'Sunny', 'Rain', 'Rain', 'Rain', 'Rain', 'Sunny', 'Sunny', 'Rain', 'Sunny', 'Rain', 'Rain', 'Rain', 'Sunny', 'Sunny', 'Sunny', 'Sunny', 'Sunny', 'Rain', 'Sunny', 'Rain']\n"
     ]
    }
   ],
   "source": [
    "# set seed\n",
    "np.random.seed(99)\n",
    "\n",
    "# Set initial state\n",
    "initial_state = 'Sunny'\n",
    "\n",
    "# Set number of steps\n",
    "num_steps = 100\n",
    "\n",
    "# Simulate Markov chain\n",
    "simulation = markov_chain(transition_matrix, initial_state, num_steps)\n",
    "\n",
    "# Print the simulation result\n",
    "print(simulation)"
   ]
  }
 ],
 "metadata": {
  "kernelspec": {
   "display_name": "Python 3 (ipykernel)",
   "language": "python",
   "name": "python3"
  },
  "language_info": {
   "codemirror_mode": {
    "name": "ipython",
    "version": 3
   },
   "file_extension": ".py",
   "mimetype": "text/x-python",
   "name": "python",
   "nbconvert_exporter": "python",
   "pygments_lexer": "ipython3",
   "version": "3.10.11"
  }
 },
 "nbformat": 4,
 "nbformat_minor": 5
}
